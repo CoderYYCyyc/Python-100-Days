{
 "cells": [
  {
   "cell_type": "code",
   "execution_count": 2,
   "metadata": {},
   "outputs": [
    {
     "name": "stdout",
     "output_type": "stream",
     "text": [
      "hello, world\n"
     ]
    }
   ],
   "source": [
    "print(\"hello, world\")"
   ]
  },
  {
   "cell_type": "code",
   "execution_count": 3,
   "metadata": {},
   "outputs": [
    {
     "name": "stdout",
     "output_type": "stream",
     "text": [
      "[[55.0, None, None], [None, None, None], [None, None, None], [None, None, None], [None, None, None]]\n",
      "[[55.0, 55.0, None], [None, None, None], [None, None, None], [None, None, None], [None, None, None]]\n",
      "[[55.0, 55.0, 55.0], [None, None, None], [None, None, None], [None, None, None], [None, None, None]]\n",
      "[[55.0, 55.0, 55.0], [55.0, None, None], [None, None, None], [None, None, None], [None, None, None]]\n",
      "[[55.0, 55.0, 55.0], [55.0, 55.0, None], [None, None, None], [None, None, None], [None, None, None]]\n",
      "[[55.0, 55.0, 55.0], [55.0, 55.0, 55.0], [None, None, None], [None, None, None], [None, None, None]]\n",
      "[[55.0, 55.0, 55.0], [55.0, 55.0, 55.0], [55.0, None, None], [None, None, None], [None, None, None]]\n",
      "[[55.0, 55.0, 55.0], [55.0, 55.0, 55.0], [55.0, 55.0, None], [None, None, None], [None, None, None]]\n",
      "[[55.0, 55.0, 55.0], [55.0, 55.0, 55.0], [55.0, 55.0, 55.0], [None, None, None], [None, None, None]]\n",
      "[[55.0, 55.0, 55.0], [55.0, 55.0, 55.0], [55.0, 55.0, 55.0], [55.0, None, None], [None, None, None]]\n",
      "[[55.0, 55.0, 55.0], [55.0, 55.0, 55.0], [55.0, 55.0, 55.0], [55.0, 55.0, None], [None, None, None]]\n",
      "[[55.0, 55.0, 55.0], [55.0, 55.0, 55.0], [55.0, 55.0, 55.0], [55.0, 55.0, 55.0], [None, None, None]]\n",
      "[[55.0, 55.0, 55.0], [55.0, 55.0, 55.0], [55.0, 55.0, 55.0], [55.0, 55.0, 55.0], [55.0, None, None]]\n",
      "[[55.0, 55.0, 55.0], [55.0, 55.0, 55.0], [55.0, 55.0, 55.0], [55.0, 55.0, 55.0], [55.0, 55.0, None]]\n",
      "[[55.0, 55.0, 55.0], [55.0, 55.0, 55.0], [55.0, 55.0, 55.0], [55.0, 55.0, 55.0], [55.0, 55.0, 55.0]]\n"
     ]
    }
   ],
   "source": [
    "names = ['关羽', '张飞', '赵云', '马超', '黄忠']\n",
    "courses = ['语文', '数学', '英语']\n",
    "# 录入五个学生三门课程的成绩\n",
    "# 错误 - 参考http://pythontutor.com/visualize.html#mode=edit\n",
    "# scores = [[None] * len(courses)] * len(names)\n",
    "scores = [[None] * len(courses) for _ in range(len(names))]\n",
    "for row, name in enumerate(names):\n",
    "    for col, course in enumerate(courses):\n",
    "        scores[row][col] = float(input(f'请输入{name}的{course}成绩: '))\n",
    "        print(scores)\n"
   ]
  },
  {
   "cell_type": "code",
   "execution_count": 4,
   "metadata": {},
   "outputs": [],
   "source": [
    "from time import time\n",
    "from functools import wraps\n",
    "def record_time(func):\n",
    "    \"\"\"自定义装饰函数的装饰器\"\"\"\n",
    "\n",
    "    @wraps(func)\n",
    "    def wrapper(*args, **kwargs):\n",
    "        start = time()\n",
    "        result = func(*args, **kwargs)\n",
    "        print(f'{func.__name__}: {time() - start}秒')\n",
    "        return result\n",
    "\n",
    "    return wrapper\n"
   ]
  },
  {
   "cell_type": "code",
   "execution_count": 5,
   "metadata": {},
   "outputs": [
    {
     "name": "stdout",
     "output_type": "stream",
     "text": [
      "cal: 0.001997709274291992秒\n"
     ]
    },
    {
     "data": {
      "text/plain": [
       "4999950000"
      ]
     },
     "execution_count": 5,
     "metadata": {},
     "output_type": "execute_result"
    }
   ],
   "source": [
    "@record_time\n",
    "def cal():\n",
    "    num = 0\n",
    "    for i in range(100000):\n",
    "        num += i\n",
    "    return num\n",
    "\n",
    "cal()"
   ]
  },
  {
   "cell_type": "code",
   "execution_count": 6,
   "metadata": {},
   "outputs": [],
   "source": [
    "from functools import wraps\n",
    "from time import time\n",
    "\n",
    "\n",
    "def record(output):\n",
    "    \"\"\"可以参数化的装饰器\"\"\"\n",
    "\n",
    "    def decorate(func):\n",
    "\n",
    "        @wraps(func)\n",
    "        def wrapper(*args, **kwargs):\n",
    "            start = time()\n",
    "            result = func(*args, **kwargs)\n",
    "            output(func.__name__, time() - start)\n",
    "            return result\n",
    "\n",
    "        return wrapper\n",
    "\n",
    "    return decorate"
   ]
  },
  {
   "cell_type": "code",
   "execution_count": 7,
   "metadata": {},
   "outputs": [
    {
     "name": "stdout",
     "output_type": "stream",
     "text": [
      "cal 耗时： 0.002231 秒\n"
     ]
    },
    {
     "data": {
      "text/plain": [
       "4999950000"
      ]
     },
     "execution_count": 7,
     "metadata": {},
     "output_type": "execute_result"
    }
   ],
   "source": [
    "def output(func_name, execution_time):\n",
    "    print(f\"{func_name} 耗时： {execution_time:.6f} 秒\")\n",
    "\n",
    "@record(output)\n",
    "def cal():\n",
    "    num = 0\n",
    "    for i in range(100000):\n",
    "        num += i\n",
    "    return num\n",
    "\n",
    "cal()"
   ]
  },
  {
   "cell_type": "code",
   "execution_count": 8,
   "metadata": {},
   "outputs": [],
   "source": [
    "from functools import wraps\n",
    "from time import time\n",
    "\n",
    "\n",
    "class Record():\n",
    "    \"\"\"通过定义类的方式定义装饰器\"\"\"\n",
    "\n",
    "    def __init__(self, output):\n",
    "        self.output = output\n",
    "\n",
    "    def __call__(self, func):\n",
    "\n",
    "        @wraps(func)\n",
    "        def wrapper(*args, **kwargs):\n",
    "            start = time()\n",
    "            result = func(*args, **kwargs)\n",
    "            self.output(func.__name__, time() - start)\n",
    "            return result\n",
    "\n",
    "        return wrapper"
   ]
  },
  {
   "cell_type": "code",
   "execution_count": 9,
   "metadata": {},
   "outputs": [
    {
     "name": "stdout",
     "output_type": "stream",
     "text": [
      "cal 耗时： 0.001994 秒\n"
     ]
    },
    {
     "data": {
      "text/plain": [
       "4999950000"
      ]
     },
     "execution_count": 9,
     "metadata": {},
     "output_type": "execute_result"
    }
   ],
   "source": [
    "@Record(output)\n",
    "def cal():\n",
    "    num = 0\n",
    "    for i in range(100000):\n",
    "        num += i\n",
    "    return num\n",
    "\n",
    "cal()"
   ]
  },
  {
   "cell_type": "markdown",
   "metadata": {},
   "source": [
    "单例模型"
   ]
  },
  {
   "cell_type": "code",
   "execution_count": 10,
   "metadata": {},
   "outputs": [],
   "source": [
    "from functools import wraps\n",
    "\n",
    "def singleton(cls):\n",
    "    \"\"\"装饰类的装饰器\"\"\"\n",
    "    instances = {}\n",
    "\n",
    "    @wraps(cls)\n",
    "    def wrapper(*args, **kwargs):\n",
    "        if cls not in instances:\n",
    "            # 以类作为键，实例对象作为值\n",
    "            instances[cls] = cls(*args, **kwargs)\n",
    "        return instances[cls]\n",
    "\n",
    "    return wrapper\n",
    "\n",
    "\n",
    "@singleton\n",
    "class President:\n",
    "    \"\"\"总统(单例类)\"\"\"\n",
    "    pass"
   ]
  },
  {
   "cell_type": "code",
   "execution_count": 11,
   "metadata": {},
   "outputs": [
    {
     "name": "stdout",
     "output_type": "stream",
     "text": [
      "Alice\n",
      "Alice\n"
     ]
    }
   ],
   "source": [
    "@singleton\n",
    "class PPP:\n",
    "    def __init__(self, name):\n",
    "        self.name = name\n",
    "\n",
    "# 创建两个 Singleton 实例\n",
    "s1 = PPP(\"Alice\")\n",
    "s2 = PPP(\"Bob\")\n",
    "\n",
    "# 打印两个实例的名字\n",
    "print(s1.name)  # 输出 \"Alice\"\n",
    "print(s2.name)  # 输出 \"Alice\""
   ]
  },
  {
   "cell_type": "code",
   "execution_count": 12,
   "metadata": {},
   "outputs": [],
   "source": [
    "from abc import ABCMeta, abstractmethod\n",
    "\n",
    "\n",
    "class Employee(metaclass=ABCMeta):\n",
    "    \"\"\"员工(抽象类)\"\"\"\n",
    "\n",
    "    def __init__(self, name):\n",
    "        self.name = name\n",
    "\n",
    "    @abstractmethod\n",
    "    def get_salary(self):\n",
    "        \"\"\"结算月薪(抽象方法)\"\"\"\n",
    "        pass\n"
   ]
  },
  {
   "cell_type": "code",
   "execution_count": 13,
   "metadata": {},
   "outputs": [],
   "source": [
    "class Manager(Employee):\n",
    "    \"\"\"部门经理\"\"\"\n",
    "\n",
    "    def get_salary(self):\n",
    "        return 15000.0\n"
   ]
  },
  {
   "cell_type": "code",
   "execution_count": 14,
   "metadata": {},
   "outputs": [],
   "source": [
    "class Programmer(Employee):\n",
    "    \"\"\"程序员\"\"\"\n",
    "\n",
    "    def __init__(self, name, working_hour=0):\n",
    "        self.working_hour = working_hour\n",
    "        super().__init__(name)\n",
    "\n",
    "    def get_salary(self):\n",
    "        return 200.0 * self.working_hour"
   ]
  },
  {
   "cell_type": "code",
   "execution_count": 15,
   "metadata": {},
   "outputs": [],
   "source": [
    "class Salesman(Employee):\n",
    "    \"\"\"销售员\"\"\"\n",
    "\n",
    "    def __init__(self, name, sales=0.0):\n",
    "        self.sales = sales\n",
    "        super().__init__(name)\n",
    "\n",
    "    def get_salary(self):\n",
    "        return 1800.0 + self.sales * 0.05"
   ]
  },
  {
   "cell_type": "code",
   "execution_count": 16,
   "metadata": {},
   "outputs": [],
   "source": [
    "class EmployeeFactory():\n",
    "    @staticmethod\n",
    "    def create(emp_type, *args, **kwargs):\n",
    "        emp_type = emp_type.upper()\n",
    "        emp = None\n",
    "        if emp_type == 'M':\n",
    "            emp = Manager(*args, **kwargs)\n",
    "        elif emp_type == 'P':\n",
    "            emp = Programmer(*args, **kwargs)\n",
    "        elif emp_type == 'S':\n",
    "            emp = Salesman(*args, **kwargs)\n",
    "        return emp\n",
    "            "
   ]
  },
  {
   "cell_type": "code",
   "execution_count": 17,
   "metadata": {},
   "outputs": [
    {
     "name": "stdout",
     "output_type": "stream",
     "text": [
      "15000.0\n",
      "100000.0\n",
      "4300.0\n"
     ]
    }
   ],
   "source": [
    "employee1 = EmployeeFactory.create('M', name = 'sim')\n",
    "employee2 = EmployeeFactory.create('P', name = 'sam', working_hour = 500)\n",
    "employee3 = EmployeeFactory.create('S', name = 'sbm', sales = 50000)\n",
    "\n",
    "print(employee1.get_salary())\n",
    "print(employee2.get_salary())\n",
    "print(employee3.get_salary())"
   ]
  }
 ],
 "metadata": {
  "kernelspec": {
   "display_name": "Python 3",
   "language": "python",
   "name": "python3"
  },
  "language_info": {
   "codemirror_mode": {
    "name": "ipython",
    "version": 3
   },
   "file_extension": ".py",
   "mimetype": "text/x-python",
   "name": "python",
   "nbconvert_exporter": "python",
   "pygments_lexer": "ipython3",
   "version": "3.11.5"
  }
 },
 "nbformat": 4,
 "nbformat_minor": 2
}
