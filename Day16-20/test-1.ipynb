{
 "cells": [
  {
   "cell_type": "code",
   "execution_count": 2,
   "metadata": {},
   "outputs": [
    {
     "name": "stdout",
     "output_type": "stream",
     "text": [
      "hello, world\n"
     ]
    }
   ],
   "source": [
    "print(\"hello, world\")"
   ]
  },
  {
   "cell_type": "code",
   "execution_count": 3,
   "metadata": {},
   "outputs": [
    {
     "name": "stdout",
     "output_type": "stream",
     "text": [
      "[[35.0, None, None], [None, None, None], [None, None, None], [None, None, None], [None, None, None]]\n",
      "[[35.0, 33.0, None], [None, None, None], [None, None, None], [None, None, None], [None, None, None]]\n",
      "[[35.0, 33.0, 55.0], [None, None, None], [None, None, None], [None, None, None], [None, None, None]]\n",
      "[[35.0, 33.0, 55.0], [44.0, None, None], [None, None, None], [None, None, None], [None, None, None]]\n",
      "[[35.0, 33.0, 55.0], [44.0, 55.0, None], [None, None, None], [None, None, None], [None, None, None]]\n",
      "[[35.0, 33.0, 55.0], [44.0, 55.0, 77.0], [None, None, None], [None, None, None], [None, None, None]]\n",
      "[[35.0, 33.0, 55.0], [44.0, 55.0, 77.0], [88.0, None, None], [None, None, None], [None, None, None]]\n",
      "[[35.0, 33.0, 55.0], [44.0, 55.0, 77.0], [88.0, 55.0, None], [None, None, None], [None, None, None]]\n",
      "[[35.0, 33.0, 55.0], [44.0, 55.0, 77.0], [88.0, 55.0, 22.0], [None, None, None], [None, None, None]]\n",
      "[[35.0, 33.0, 55.0], [44.0, 55.0, 77.0], [88.0, 55.0, 22.0], [55.0, None, None], [None, None, None]]\n",
      "[[35.0, 33.0, 55.0], [44.0, 55.0, 77.0], [88.0, 55.0, 22.0], [55.0, 77.0, None], [None, None, None]]\n",
      "[[35.0, 33.0, 55.0], [44.0, 55.0, 77.0], [88.0, 55.0, 22.0], [55.0, 77.0, 66.0], [None, None, None]]\n",
      "[[35.0, 33.0, 55.0], [44.0, 55.0, 77.0], [88.0, 55.0, 22.0], [55.0, 77.0, 66.0], [77.0, None, None]]\n",
      "[[35.0, 33.0, 55.0], [44.0, 55.0, 77.0], [88.0, 55.0, 22.0], [55.0, 77.0, 66.0], [77.0, 77.0, None]]\n",
      "[[35.0, 33.0, 55.0], [44.0, 55.0, 77.0], [88.0, 55.0, 22.0], [55.0, 77.0, 66.0], [77.0, 77.0, 77.0]]\n"
     ]
    }
   ],
   "source": [
    "names = ['关羽', '张飞', '赵云', '马超', '黄忠']\n",
    "courses = ['语文', '数学', '英语']\n",
    "# 录入五个学生三门课程的成绩\n",
    "# 错误 - 参考http://pythontutor.com/visualize.html#mode=edit\n",
    "# scores = [[None] * len(courses)] * len(names)\n",
    "scores = [[None] * len(courses) for _ in range(len(names))]\n",
    "for row, name in enumerate(names):\n",
    "    for col, course in enumerate(courses):\n",
    "        scores[row][col] = float(input(f'请输入{name}的{course}成绩: '))\n",
    "        print(scores)\n"
   ]
  }
 ],
 "metadata": {
  "kernelspec": {
   "display_name": "Python 3",
   "language": "python",
   "name": "python3"
  },
  "language_info": {
   "codemirror_mode": {
    "name": "ipython",
    "version": 3
   },
   "file_extension": ".py",
   "mimetype": "text/x-python",
   "name": "python",
   "nbconvert_exporter": "python",
   "pygments_lexer": "ipython3",
   "version": "3.11.5"
  }
 },
 "nbformat": 4,
 "nbformat_minor": 2
}
